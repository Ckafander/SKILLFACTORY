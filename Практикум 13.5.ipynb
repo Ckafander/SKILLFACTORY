{
 "cells": [
  {
   "cell_type": "code",
   "execution_count": 1,
   "metadata": {},
   "outputs": [
    {
     "name": "stdout",
     "output_type": "stream",
     "text": [
      "0.5\n"
     ]
    }
   ],
   "source": [
    "values = [-7, -7, 7, 7]\n",
    "std = 42\n",
    "\n",
    "def count_std():\n",
    "    mean = sum(values)/len(values)\n",
    "    std = (sum([(value-mean)**2 for value in values])/len(values))**0.5\n",
    "    return std\n",
    "\n",
    "def normalize(value):\n",
    "    result = value/std\n",
    "    return result \n",
    "\n",
    "print(normalize(21))"
   ]
  },
  {
   "cell_type": "code",
   "execution_count": 3,
   "metadata": {},
   "outputs": [
    {
     "data": {
      "text/plain": [
       "<function __main__.<lambda>(x, y)>"
      ]
     },
     "execution_count": 3,
     "metadata": {},
     "output_type": "execute_result"
    }
   ],
   "source": [
    "def name(x, y):  \n",
    "    return x + y\n"
   ]
  },
  {
   "cell_type": "code",
   "execution_count": 4,
   "metadata": {},
   "outputs": [
    {
     "data": {
      "text/plain": [
       "<function __main__.<lambda>(x, y)>"
      ]
     },
     "execution_count": 4,
     "metadata": {},
     "output_type": "execute_result"
    }
   ],
   "source": [
    "lambda x, y: x + y"
   ]
  },
  {
   "cell_type": "code",
   "execution_count": null,
   "metadata": {},
   "outputs": [],
   "source": [
    "#1. Принимаю от пользователя дату\n",
    "#2. Составляю расписание раз в 2 дня (через день)\n",
    "#3. На 30 дней ДД ММ ГГ и день недели\n",
    "#4. Если это воскресенье, то перенести на понеделтник и опять через день\n",
    "\n",
    "import datetime\n",
    "#прошу у пользователся дату\n",
    "date_entry = input(\"Введите дату в формате ДД, ММ, ГГГГ \")\n",
    "\n",
    "#перевожу в формат даты ДД ММ ГГГГ - если ввести формат по-другому, то программа не запустится\n",
    "dt = datetime.datetime.strptime(date_entry, \"%d, %m, %Y\")\n",
    "\n",
    "#вывод списка по дням\n",
    "#скачать pip DateTimeRange (https://pypi.org/project/DateTimeRange/#get-iterator)\n",
    "from datetimerange import DateTimeRange\n",
    "# date_End - финальная дата через 30 дней\n",
    "date_End = datetime.timedelta(days=30)\n",
    "time_range = DateTimeRange(dt, dt + date_End)\n",
    "print (\"Расписание на месяц: \")\n",
    "#список выводится через день (days=2)\n",
    "for value in time_range.range(datetime.timedelta(days=2)):\n",
    "#проверка на то, что будут выводиться дни с пн до сб\n",
    "    if value.weekday() in range(0,6):\n",
    "        print(value.strftime (\"%A, %d %B, %Y\"))"
   ]
  },
  {
   "cell_type": "code",
   "execution_count": null,
   "metadata": {},
   "outputs": [],
   "source": []
  }
 ],
 "metadata": {
  "kernelspec": {
   "display_name": "Python 3",
   "language": "python",
   "name": "python3"
  },
  "language_info": {
   "codemirror_mode": {
    "name": "ipython",
    "version": 3
   },
   "file_extension": ".py",
   "mimetype": "text/x-python",
   "name": "python",
   "nbconvert_exporter": "python",
   "pygments_lexer": "ipython3",
   "version": "3.8.4"
  }
 },
 "nbformat": 4,
 "nbformat_minor": 4
}
