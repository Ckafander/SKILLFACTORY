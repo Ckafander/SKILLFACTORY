{
 "cells": [
  {
   "cell_type": "code",
   "execution_count": 24,
   "metadata": {},
   "outputs": [
    {
     "name": "stdout",
     "output_type": "stream",
     "text": [
      "20.0\n"
     ]
    }
   ],
   "source": [
    "a=()\n",
    "a=((67+33)/25)\n",
    "x=()\n",
    "x=(25-20)\n",
    "x=a*x\n",
    "print(x)"
   ]
  },
  {
   "cell_type": "code",
   "execution_count": 29,
   "metadata": {
    "scrolled": true
   },
   "outputs": [
    {
     "name": "stdout",
     "output_type": "stream",
     "text": [
      "[[1, 2, 3, 4, 5], [6, 7, 8, 9, 10], [11, 12, 13, 14, 15], [16, 6, 18, 19, 20]]\n"
     ]
    }
   ],
   "source": [
    "matrix=[[1,2,3,4,5],[6,7,8,9,10],[11,12,13,14,15],[16,17,18,19,20]]\n",
    "matrix[3][1] = 6\n",
    "print(matrix)\n"
   ]
  },
  {
   "cell_type": "code",
   "execution_count": 42,
   "metadata": {},
   "outputs": [
    {
     "name": "stdout",
     "output_type": "stream",
     "text": [
      "{1, 2}\n",
      "{0, 1, 2, 7, 8, 9}\n",
      "{1, 2, 5, 6, 7, 8}\n"
     ]
    }
   ],
   "source": [
    "a1 = {0,1,2,3,4,5,6,7,8,9}\n",
    "a2 = {1,2}\n",
    "a3 = {5,6,7,8}\n",
    "a4 = {1,1}\n",
    "a5 = {3,4,5,6}\n",
    "print(a2.union(a4))\n",
    "print(a1.difference(a5))\n",
    "print(a2^a3)"
   ]
  },
  {
   "cell_type": "code",
   "execution_count": null,
   "metadata": {},
   "outputs": [],
   "source": []
  }
 ],
 "metadata": {
  "kernelspec": {
   "display_name": "Python 3",
   "language": "python",
   "name": "python3"
  },
  "language_info": {
   "codemirror_mode": {
    "name": "ipython",
    "version": 3
   },
   "file_extension": ".py",
   "mimetype": "text/x-python",
   "name": "python",
   "nbconvert_exporter": "python",
   "pygments_lexer": "ipython3",
   "version": "3.8.4"
  }
 },
 "nbformat": 4,
 "nbformat_minor": 4
}
