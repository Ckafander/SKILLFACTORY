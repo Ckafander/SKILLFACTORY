{
 "cells": [
  {
   "cell_type": "code",
   "execution_count": null,
   "metadata": {},
   "outputs": [],
   "source": [
    "#Формула Герона\n",
    "a=float(input('Введите сторону А'))\n",
    "b=float(input('Введите сторону Б'))\n",
    "c=float(input('Введите сторону C'))\n",
    "\n",
    "p=(a+b+c)/2\n",
    "\n",
    "S=(p*(p-a)*(p-b)*(p-c))**0.5\n",
    "print(f'Площадь треугольника: {round(S)}')\n"
   ]
  },
  {
   "cell_type": "code",
   "execution_count": null,
   "metadata": {},
   "outputs": [],
   "source": [
    "#Високосный год\n",
    "a=int(input())\n",
    "\n",
    "if a%400==0 or(a%100!=0 and a%4==0):\n",
    "    print('Високосный год')\n",
    "else:\n",
    "    print('Обычный год')"
   ]
  },
  {
   "cell_type": "code",
   "execution_count": null,
   "metadata": {},
   "outputs": [],
   "source": [
    "#вычисление процента от ставки\n",
    "summ = int(input(\"Введите сумму вклада: \"))\n",
    "month = int(input(\"Введите месяц: \"))\n",
    "\n",
    "i = 0\n",
    "\n",
    "while i < month:\n",
    "    summ += summ * (0,0418 / 12)\n",
    "    i += 1\n",
    "\n",
    "print (int(summ))"
   ]
  },
  {
   "cell_type": "code",
   "execution_count": null,
   "metadata": {},
   "outputs": [],
   "source": []
  }
 ],
 "metadata": {
  "kernelspec": {
   "display_name": "Python 3",
   "language": "python",
   "name": "python3"
  },
  "language_info": {
   "codemirror_mode": {
    "name": "ipython",
    "version": 3
   },
   "file_extension": ".py",
   "mimetype": "text/x-python",
   "name": "python",
   "nbconvert_exporter": "python",
   "pygments_lexer": "ipython3",
   "version": "3.8.4"
  }
 },
 "nbformat": 4,
 "nbformat_minor": 4
}
